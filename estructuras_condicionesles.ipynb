{
 "cells": [
  {
   "cell_type": "markdown",
   "id": "f46af705",
   "metadata": {},
   "source": [
    "# Entrenando la programación\n",
    "1 - Escribe un programa que pida a la persona usuaria que proporcione dos números y muestre el número más grande.\n"
   ]
  },
  {
   "cell_type": "code",
   "execution_count": 7,
   "id": "31ea740f",
   "metadata": {},
   "outputs": [
    {
     "name": "stdout",
     "output_type": "stream",
     "text": [
      "los numeros son iguales\n"
     ]
    }
   ],
   "source": [
    "#1 - Escribe un programa que pida a la persona usuaria que proporcione dos números y muestre el número más grande.\n",
    "num_1 = float(input(\"ingrese el primer numero: \"))\n",
    "num_2 = float(input(\"ingrese el primer numero: \"))\n",
    "if num_1 > num_2:\n",
    "    print(f\"el numero mayor es: {num_1}\")\n",
    "elif num_2 > num_1:\n",
    "    print(f\"el numero mayor es: {num_2}\")\n",
    "elif num_1 == num_2:\n",
    "    print(\"los numeros son iguales\")\n"
   ]
  },
  {
   "cell_type": "markdown",
   "id": "d03a906a",
   "metadata": {},
   "source": [
    "2 - Escribe un programa que solicite el porcentaje de crecimiento de producción de una empresa e informe si hubo un crecimiento (porcentaje positivo) o una disminución (porcentaje negativo)."
   ]
  },
  {
   "cell_type": "code",
   "execution_count": 10,
   "id": "1bdf5f9b",
   "metadata": {},
   "outputs": [
    {
     "name": "stdout",
     "output_type": "stream",
     "text": [
      "hubo una disminucion\n"
     ]
    }
   ],
   "source": [
    "#2 - Escribe un programa que solicite el porcentaje de crecimiento de producción de una empresa e informe si hubo un crecimiento (porcentaje positivo) o una disminución (porcentaje negativo).\n",
    "crecimiento = float(input(\"ingrese el porcentaje de crecimiento de la empresa: \"))\n",
    "if crecimiento > 0:\n",
    "    print(\"hubo un crecimiento\")\n",
    "elif crecimiento < 0:\n",
    "    print(\"hubo una disminucion\")\n",
    "elif crecimiento == 0:\n",
    "    print(\"no hubo crecimeinto ni disminucion\")\n"
   ]
  },
  {
   "cell_type": "markdown",
   "id": "bc38af4a",
   "metadata": {},
   "source": [
    "3 - Escribe un programa que determine si una letra proporcionada por la persona usuaria es una vocal o una consonante."
   ]
  },
  {
   "cell_type": "code",
   "execution_count": 13,
   "id": "505ea97d",
   "metadata": {},
   "outputs": [
    {
     "name": "stdout",
     "output_type": "stream",
     "text": [
      "la letra es una vocal\n"
     ]
    }
   ],
   "source": [
    "#3 - Escribe un programa que determine si una letra proporcionada por la persona usuaria es una vocal o una consonante.\n",
    "letra = input(\"ingrese una letra: \").lower()\n",
    "if letra in \"aeiou\":\n",
    "    print(\"la letra es una vocal\")\n",
    "else:\n",
    "    print(\"la letra es una consonante\")"
   ]
  }
 ],
 "metadata": {
  "kernelspec": {
   "display_name": "Python 3",
   "language": "python",
   "name": "python3"
  },
  "language_info": {
   "codemirror_mode": {
    "name": "ipython",
    "version": 3
   },
   "file_extension": ".py",
   "mimetype": "text/x-python",
   "name": "python",
   "nbconvert_exporter": "python",
   "pygments_lexer": "ipython3",
   "version": "3.12.2"
  }
 },
 "nbformat": 4,
 "nbformat_minor": 5
}
