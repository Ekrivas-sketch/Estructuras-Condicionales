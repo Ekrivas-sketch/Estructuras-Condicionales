{
 "cells": [
  {
   "cell_type": "markdown",
   "id": "f46af705",
   "metadata": {},
   "source": [
    "# Entrenando la programación\n",
    "1 - Escribe un programa que pida a la persona usuaria que proporcione dos números y muestre el número más grande.\n"
   ]
  },
  {
   "cell_type": "code",
   "execution_count": 7,
   "id": "31ea740f",
   "metadata": {},
   "outputs": [
    {
     "name": "stdout",
     "output_type": "stream",
     "text": [
      "los numeros son iguales\n"
     ]
    }
   ],
   "source": [
    "#1 - Escribe un programa que pida a la persona usuaria que proporcione dos números y muestre el número más grande.\n",
    "num_1 = float(input(\"ingrese el primer numero: \"))\n",
    "num_2 = float(input(\"ingrese el primer numero: \"))\n",
    "if num_1 > num_2:\n",
    "    print(f\"el numero mayor es: {num_1}\")\n",
    "elif num_2 > num_1:\n",
    "    print(f\"el numero mayor es: {num_2}\")\n",
    "elif num_1 == num_2:\n",
    "    print(\"los numeros son iguales\")\n"
   ]
  },
  {
   "cell_type": "markdown",
   "id": "d03a906a",
   "metadata": {},
   "source": [
    "2 - Escribe un programa que solicite el porcentaje de crecimiento de producción de una empresa e informe si hubo un crecimiento (porcentaje positivo) o una disminución (porcentaje negativo)."
   ]
  },
  {
   "cell_type": "code",
   "execution_count": 10,
   "id": "1bdf5f9b",
   "metadata": {},
   "outputs": [
    {
     "name": "stdout",
     "output_type": "stream",
     "text": [
      "hubo una disminucion\n"
     ]
    }
   ],
   "source": [
    "#2 - Escribe un programa que solicite el porcentaje de crecimiento de producción de una empresa e informe si hubo un crecimiento (porcentaje positivo) o una disminución (porcentaje negativo).\n",
    "crecimiento = float(input(\"ingrese el porcentaje de crecimiento de la empresa: \"))\n",
    "if crecimiento > 0:\n",
    "    print(\"hubo un crecimiento\")\n",
    "elif crecimiento < 0:\n",
    "    print(\"hubo una disminucion\")\n",
    "elif crecimiento == 0:\n",
    "    print(\"no hubo crecimeinto ni disminucion\")\n"
   ]
  },
  {
   "cell_type": "markdown",
   "id": "bc38af4a",
   "metadata": {},
   "source": [
    "3 - Escribe un programa que determine si una letra proporcionada por la persona usuaria es una vocal o una consonante."
   ]
  },
  {
   "cell_type": "code",
   "execution_count": 13,
   "id": "505ea97d",
   "metadata": {},
   "outputs": [
    {
     "name": "stdout",
     "output_type": "stream",
     "text": [
      "la letra es una vocal\n"
     ]
    }
   ],
   "source": [
    "#3 - Escribe un programa que determine si una letra proporcionada por la persona usuaria es una vocal o una consonante.\n",
    "letra = input(\"ingrese una letra: \").lower()\n",
    "if letra in \"aeiou\":\n",
    "    print(\"la letra es una vocal\")\n",
    "else:\n",
    "    print(\"la letra es una consonante\")"
   ]
  },
  {
   "cell_type": "markdown",
   "id": "e83ccec0",
   "metadata": {},
   "source": [
    "4 - Escribe un programa que lea valores promedio de precios de un modelo de automóvil durante 3 años consecutivos y muestre el valor más alto y más bajo entre esos tres años."
   ]
  },
  {
   "cell_type": "code",
   "execution_count": 1,
   "id": "bc2fee21",
   "metadata": {},
   "outputs": [
    {
     "name": "stdout",
     "output_type": "stream",
     "text": [
      "el precio mas alto es: 300.0\n",
      "el precio mas bajo es: 100.0\n"
     ]
    }
   ],
   "source": [
    "#4 - Escribe un programa que lea valores promedio de precios de un modelo de automóvil durante 3 años consecutivos y muestre el valor más alto y más bajo entre esos tres años.\n",
    "precios = []\n",
    "for i in range(1, 4):\n",
    "    precio = float(input(f\"ingrese el precio del auto en el año {i}: \"))\n",
    "    precios.append(precio)\n",
    "print(f\"el precio mas alto es: {max(precios)}\")\n",
    "print(f\"el precio mas bajo es: {min(precios)}\")"
   ]
  },
  {
   "cell_type": "markdown",
   "id": "334b57ca",
   "metadata": {},
   "source": [
    "5 - Escribe un programa que pregunte sobre el precio de tres productos e indique cuál es el producto más barato para comprar."
   ]
  },
  {
   "cell_type": "code",
   "execution_count": 2,
   "id": "171e1b05",
   "metadata": {},
   "outputs": [
    {
     "name": "stdout",
     "output_type": "stream",
     "text": [
      "el producto mas barato cuesta: 100.0\n"
     ]
    }
   ],
   "source": [
    "#5 - Escribe un programa que pregunte sobre el precio de tres productos e indique cuál es el producto más barato para comprar.\n",
    "precios_productos = []\n",
    "for i in range(1, 4):\n",
    "    precio = float(input(f\"ingrese el precio del producto {i}: \"))\n",
    "    precios_productos.append(precio)\n",
    "print(f\"el producto mas barato cuesta: {min(precios_productos)}\")\n"
   ]
  },
  {
   "cell_type": "markdown",
   "id": "77ab46a9",
   "metadata": {},
   "source": [
    "6 - Escribe un programa que lea tres números y los muestre en orden descendente."
   ]
  },
  {
   "cell_type": "code",
   "execution_count": 3,
   "id": "e37a2928",
   "metadata": {},
   "outputs": [
    {
     "name": "stdout",
     "output_type": "stream",
     "text": [
      "los numeros en orden descendente son: [3.0, 2.0, 1.0]\n"
     ]
    }
   ],
   "source": [
    "#6 - Escribe un programa que lea tres números y los muestre en orden descendente.\n",
    "num_a = float(input(\"ingrese el primer numero: \"))\n",
    "num_b = float(input(\"ingrese el segundo numero: \"))\n",
    "num_c = float(input(\"ingrese el tercer numero: \"))\n",
    "numeros = [num_a, num_b, num_c]\n",
    "numeros.sort(reverse=True)\n",
    "print(f\"los numeros en orden descendente son: {numeros}\")\n"
   ]
  },
  {
   "cell_type": "markdown",
   "id": "0204c905",
   "metadata": {},
   "source": [
    "7 -Escribe un programa que pregunte en qué turno estudia la persona usuaria (\"mañana\", \"tarde\" o \"noche\") y muestre el mensaje \"¡Buenos Días!\", \"¡Buenas Tardes!\", \"¡Buenas Noches!\" o \"Valor Inválido!\", según el caso."
   ]
  },
  {
   "cell_type": "code",
   "execution_count": 4,
   "id": "94e3d077",
   "metadata": {},
   "outputs": [
    {
     "name": "stdout",
     "output_type": "stream",
     "text": [
      "Valor Inválido!\n"
     ]
    }
   ],
   "source": [
    "#7 -Escribe un programa que pregunte en qué turno estudia la persona usuaria (\"mañana\", \"tarde\" o \"noche\") y muestre el mensaje \"¡Buenos Días!\", \"¡Buenas Tardes!\", \"¡Buenas Noches!\" o \"Valor Inválido!\", según el caso.\n",
    "turno = input(\"ingrese en que turno estudia (mañana, tarde o noche): \").lower()\n",
    "if turno == \"mañana\":\n",
    "    print(\"¡Buenos Días!\")\n",
    "elif turno == \"tarde\":\n",
    "    print(\"¡Buenas Tardes!\")\n",
    "elif turno == \"noche\":\n",
    "    print(\"¡Buenas Noches!\")\n",
    "else:\n",
    "    print(\"Valor Inválido!\")"
   ]
  },
  {
   "cell_type": "markdown",
   "id": "22a959c6",
   "metadata": {},
   "source": [
    "8 - Escribe un programa que solicite un número entero a la persona usuaria y determine si es par o impar. Pista: Puedes usar el operador módulo (%)."
   ]
  },
  {
   "cell_type": "code",
   "execution_count": null,
   "id": "5edba898",
   "metadata": {},
   "outputs": [
    {
     "name": "stdout",
     "output_type": "stream",
     "text": [
      "el valor ingresado no es un numero entero\n"
     ]
    }
   ],
   "source": [
    "#8 - Escribe un programa que solicite un número entero a la persona usuaria y determine si es par o impar. Pista: Puedes usar el operador módulo (%).\n",
    "numero = float(input(\"ingrese un numero entero: \"))\n",
    "if numero.is_integer(): #verifica si el numero es entero\n",
    "    numero = int(numero) #convierte el numero a entero\n",
    "    operador_porcentaje = numero % 2\n",
    "    print(f\"el resultado del operador porcentaje es: {operador_porcentaje}\")\n",
    "    if numero % 2 == 0:\n",
    "        print(f\"el numero {numero} es par\")\n",
    "    else:\n",
    "        print(f\"el numero {numero} es impar\")\n",
    "else:\n",
    "    print(\"el valor ingresado no es un numero entero\")"
   ]
  },
  {
   "cell_type": "markdown",
   "id": "2e65de5f",
   "metadata": {},
   "source": [
    "9 - Escribe un programa que pida un número a la persona usuaria y le informe si es entero o decimal."
   ]
  },
  {
   "cell_type": "code",
   "execution_count": null,
   "id": "def6d764",
   "metadata": {},
   "outputs": [
    {
     "name": "stdout",
     "output_type": "stream",
     "text": [
      "el numero 2.5 es decimal\n"
     ]
    }
   ],
   "source": [
    "#9 - Escribe un programa que pida un número a la persona usuaria y le informe si es entero o decimal.\n",
    "num = float(input(\"ingrese un numero: \"))\n",
    "if num.is_integer(): #verifica si el numero es entero\n",
    "    print(f\"el numero {num} es entero\")\n",
    "else:\n",
    "    print(f\"el numero {num} es decimal\")"
   ]
  },
  {
   "cell_type": "markdown",
   "id": "543fd73a",
   "metadata": {},
   "source": [
    "# Momento de los proyectos\n",
    "10 - Un programa debe ser escrito para leer dos números y luego preguntar a la persona usuaria qué operación desea realizar. El resultado de la operación debe incluir información sobre el número, si es par o impar, positivo o negativo, e entero o decimal.\n"
   ]
  },
  {
   "cell_type": "code",
   "execution_count": null,
   "id": "8cc227d1",
   "metadata": {},
   "outputs": [
    {
     "name": "stdout",
     "output_type": "stream",
     "text": [
      "el resultado de la operacion es: 3.0\n",
      "el resultado es positivo\n",
      "el resultado es entero\n",
      "el resultado es impar\n"
     ]
    }
   ],
   "source": [
    "#10 - Un programa debe ser escrito para leer dos números y luego preguntar a la persona usuaria qué operación desea realizar. El resultado de la operación debe incluir información sobre el número, si es par o impar, positivo o negativo, e entero o decimal.\n",
    "num_x = float(input(\"ingrese el primer numero: \"))\n",
    "num_y = float(input(\"ingrese el segundo numero: \"))\n",
    "operacion = input(\"ingrese la operacion a realizar (suma, resta, multiplicacion, division): \").lower()\n",
    "if operacion == \"suma\":\n",
    "    resultado = num_x + num_y\n",
    "elif operacion == \"resta\":\n",
    "    resultado = num_x - num_y\n",
    "elif operacion == \"multiplicacion\":\n",
    "    resultado = num_x * num_y\n",
    "elif operacion == \"division\":\n",
    "    if num_y != 0:\n",
    "        resultado = num_x / num_y\n",
    "    else:\n",
    "        resultado = \"Error: Division inderminada\"\n",
    "else:\n",
    "    resultado = \"Operacion invalida\"\n",
    "print(f\"el resultado de la operacion es: {resultado}\")\n",
    "if isinstance(resultado, (int, float)): # Verifica que el resultado sea un número\n",
    "    if resultado > 0:\n",
    "        print(\"el resultado es positivo\")\n",
    "    elif resultado < 0:\n",
    "        print(\"el resultado es negativo\")\n",
    "    else:\n",
    "        print(\"el resultado es cero\")\n",
    "    if resultado.is_integer(): #verifica si el resultado es entero\n",
    "        print(\"el resultado es entero\")\n",
    "        if resultado % 2 == 0:\n",
    "            print(\"el resultado es par\")\n",
    "        else:\n",
    "            print(\"el resultado es impar\")\n",
    "    else:\n",
    "        print(\"el resultado es decimal\")\n"
   ]
  },
  {
   "cell_type": "markdown",
   "id": "dfdd3cf8",
   "metadata": {},
   "source": [
    "11 - Escribe un programa que pida a la persona usuaria tres números que representan los lados de un triángulo. El programa debe informar si los valores pueden utilizarse para formar un triángulo y, en caso afirmativo, si es equilátero, isósceles o escaleno. Ten en cuenta algunas sugerencias:\n",
    "* Tres lados forman un triángulo cuando la suma de cualesquiera dos lados es mayor que el tercero;\n",
    "* Triángulo Equilátero: tres lados iguales;\n",
    "* Triángulo Isósceles: dos lados iguales;\n",
    "* Triángulo Escaleno: tres lados diferentes."
   ]
  },
  {
   "cell_type": "code",
   "execution_count": null,
   "id": "e416df9f",
   "metadata": {},
   "outputs": [
    {
     "name": "stdout",
     "output_type": "stream",
     "text": [
      "el triangulo es isosceles\n"
     ]
    }
   ],
   "source": [
    "\"\"\"11 - Escribe un programa que pida a la persona usuaria tres números que representan los lados de un triángulo. El programa debe informar si los valores pueden utilizarse para formar un triángulo y,\n",
    "en caso afirmativo, si es equilátero, isósceles o escaleno. Ten en cuenta algunas sugerencias:\n",
    "* Tres lados forman un triángulo cuando la suma de cualesquiera dos lados es mayor que el tercero;\n",
    "* Triángulo Equilátero: tres lados iguales;\n",
    "* Triángulo Isósceles: dos lados iguales;\n",
    "* Triángulo Escaleno: tres lados diferentes.\"\"\"\n",
    "\n",
    "lado_1 = float(input(\"ingrese el primer lado del triangulo: \"))\n",
    "lado_2 = float(input(\"ingrese el segundo lado del triangulo: \"))\n",
    "lado_3 = float(input(\"ingrese el tercer lado del triangulo: \"))\n",
    "if (lado_1 + lado_2 > lado_3) and (lado_1 + lado_3 > lado_2) and (lado_2 + lado_3 > lado_1):\n",
    "    if lado_1 == lado_2 == lado_3:\n",
    "        print(\"el triangulo es equilatero\")\n",
    "    elif lado_1 == lado_2 or lado_1 == lado_3 or lado_2 == lado_3:\n",
    "        print(\"el triangulo es isosceles\")\n",
    "    else:\n",
    "        print(\"el triangulo es escaleno\")\n",
    "else:\n",
    "    print(\"los lados ingresados no forman un triangulo\")\n"
   ]
  },
  {
   "cell_type": "markdown",
   "id": "142985ab",
   "metadata": {},
   "source": [
    "12 - Un establecimiento está vendiendo combustibles con descuentos variables. Para el etanol, si la cantidad comprada es de hasta 15 litros, el descuento será del 2% por litro. En caso contrario, será del 4% por litro. Para el diésel, si la cantidad comprada es de hasta 15 litros, el descuento será del 3% por litro. En caso contrario, será del 5% por litro. El precio por litro de diésel es de R$ 2,00 y el precio por litro de etanol es de R$ 1,70. Escribe un programa que lea la cantidad de litros vendidos y el tipo de combustible (E para etanol y D para diésel) y calcule el valor a pagar por el cliente. Ten en cuenta algunas sugerencias:\n",
    "\n",
    "* El valor del descuento será el producto del precio por litro, la cantidad de litros y el valor del descuento.\n",
    "* El valor a pagar por un cliente será el resultado de la multiplicación del precio por litro por la cantidad de litros menos el valor del descuento resultante del cálculo."
   ]
  },
  {
   "cell_type": "code",
   "execution_count": 6,
   "id": "434e284a",
   "metadata": {},
   "outputs": [
    {
     "name": "stdout",
     "output_type": "stream",
     "text": [
      "el valor a pagar por el cliente es: 32.64\n"
     ]
    }
   ],
   "source": [
    "\"\"\"12 - Un establecimiento está vendiendo combustibles con descuentos variables. \n",
    "Para el etanol, si la cantidad comprada es de hasta 15 litros, el descuento será del 2% por litro. En caso contrario, será del 4% por litro. Para el diésel, \n",
    "si la cantidad comprada es de hasta 15 litros, el descuento será del 3% por litro. En caso contrario, será del 5% por litro. El precio por litro de diésel es de R$ 2,00 y \n",
    "el precio por litro de etanol es de R$ 1,70. \n",
    "Escribe un programa que lea la cantidad de litros vendidos y el tipo de combustible (E para etanol y D para diésel) y calcule el valor a pagar por el cliente.\n",
    "Ten en cuenta algunas sugerencias:\n",
    "\n",
    "* El valor del descuento será el producto del precio por litro, la cantidad de litros y el valor del descuento.\n",
    "* El valor a pagar por un cliente será el resultado de la multiplicación del precio por litro por la cantidad de litros menos el valor del descuento resultante del cálculo.\"\"\"\n",
    "\n",
    "litros_vendidos = float(input(\"ingrese la cantidad de litros vendidos: \"))\n",
    "tipo_combustible = input(\"ingrese el tipo de combustible (E para etanol y D para diesel): \").upper()# convierte a mayusculas\n",
    "if tipo_combustible == \"E\":\n",
    "    precio_por_litro = 1.70\n",
    "    if litros_vendidos <= 15:\n",
    "        descuento = 0.02\n",
    "    else:\n",
    "        descuento = 0.04\n",
    "elif tipo_combustible == \"D\":\n",
    "    precio_por_litro = 2.00\n",
    "    if litros_vendidos <= 15:\n",
    "        descuento = 0.03\n",
    "    else:\n",
    "        descuento = 0.05\n",
    "else:\n",
    "    print(\"tipo de combustible invalido\")\n",
    "    precio_por_litro = 0\n",
    "    descuento = 0\n",
    "valor_descuento = precio_por_litro * litros_vendidos * descuento\n",
    "valor_a_pagar = (precio_por_litro * litros_vendidos) - valor_descuento\n",
    "print(f\"el valor a pagar por el cliente es: {valor_a_pagar}\")\n",
    "\n",
    "\n"
   ]
  },
  {
   "cell_type": "markdown",
   "id": "30666e41",
   "metadata": {},
   "source": [
    "13 - En una empresa de venta de bienes raíces, debes crear un código que analice los datos de ventas anuales para ayudar a la dirección en la toma de decisiones. El código debe recopilar los datos de cantidad de ventas durante los años 2022 y 2023 y calcular la variación porcentual. A partir del valor de la variación, se deben proporcionar las siguientes sugerencias:\n",
    "\n",
    "* Para una variación superior al 20%: bonificación para el equipo de ventas.\n",
    "* Para una variación entre el 2% y el 20%: pequeña bonificación para el equipo de ventas.\n",
    "* Para una variación entre el 2% y el -10%: planificación de políticas de incentivo a las ventas.\n",
    "* Para bonificaciones inferiores al -10%: recorte de gastos."
   ]
  },
  {
   "cell_type": "code",
   "execution_count": 7,
   "id": "e1cd16e4",
   "metadata": {},
   "outputs": [
    {
     "name": "stdout",
     "output_type": "stream",
     "text": [
      "la variacion porcentual es: 8.333333333333332%\n",
      "pequeña bonificacion para el equipo de ventas\n"
     ]
    }
   ],
   "source": [
    "\"\"\"\n",
    "13 - En una empresa de venta de bienes raíces, debes crear un código que analice los datos de ventas anuales para ayudar a la dirección en la toma de decisiones.\n",
    "El código debe recopilar los datos de cantidad de ventas durante los años 2022 y 2023 y calcular la variación porcentual.\n",
    "A partir del valor de la variación, se deben proporcionar las siguientes sugerencias:\n",
    "\n",
    "* Para una variación superior al 20%: bonificación para el equipo de ventas.\n",
    "* Para una variación entre el 2% y el 20%: pequeña bonificación para el equipo de ventas.\n",
    "* Para una variación entre el 2% y el -10%: planificación de políticas de incentivo a las ventas.\n",
    "* Para bonificaciones inferiores al -10%: recorte de gastos.\"\"\"\n",
    "\n",
    "ventas_2022 = float(input(\"ingrese la cantidad de ventas del año 2022: \"))\n",
    "ventas_2023 = float(input(\"ingrese la cantidad de ventas del año 2023: \"))\n",
    "variacion = ((ventas_2023 - ventas_2022) / ventas_2022) * 100\n",
    "print(f\"la variacion porcentual es: {variacion}%\")\n",
    "if variacion > 20:\n",
    "    print(\"bonificacion para el equipo de ventas\")\n",
    "elif 2 < variacion <= 20:\n",
    "    print(\"pequeña bonificacion para el equipo de ventas\")\n",
    "elif -10 <= variacion <= 2:\n",
    "    print(\"planificacion de politicas de incentivo a las ventas\")\n",
    "elif variacion < -10:\n",
    "    print(\"recorte de gastos\")\n",
    "\n"
   ]
  }
 ],
 "metadata": {
  "kernelspec": {
   "display_name": "Python 3",
   "language": "python",
   "name": "python3"
  },
  "language_info": {
   "codemirror_mode": {
    "name": "ipython",
    "version": 3
   },
   "file_extension": ".py",
   "mimetype": "text/x-python",
   "name": "python",
   "nbconvert_exporter": "python",
   "pygments_lexer": "ipython3",
   "version": "3.12.2"
  }
 },
 "nbformat": 4,
 "nbformat_minor": 5
}
